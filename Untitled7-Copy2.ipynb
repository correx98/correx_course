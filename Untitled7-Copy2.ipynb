{
 "cells": [
  {
   "cell_type": "code",
   "execution_count": 40,
   "metadata": {},
   "outputs": [],
   "source": [
    "# Python XML Parsing\n",
    "import xml.etree.ElementTree as ET\n",
    "root = ET.parse('RTFFAPI.xml').getroot()"
   ]
  },
  {
   "cell_type": "code",
   "execution_count": 41,
   "metadata": {},
   "outputs": [],
   "source": [
    "#Get Root Tag Name"
   ]
  },
  {
   "cell_type": "code",
   "execution_count": 42,
   "metadata": {},
   "outputs": [
    {
     "name": "stdout",
     "output_type": "stream",
     "text": [
      "{http://eviware.com/soapui/config}soapui-project\n"
     ]
    }
   ],
   "source": [
    "tag = root.tag\n",
    "print(tag)"
   ]
  },
  {
   "cell_type": "code",
   "execution_count": 22,
   "metadata": {},
   "outputs": [],
   "source": [
    "#Get Attributes of Root"
   ]
  },
  {
   "cell_type": "code",
   "execution_count": 23,
   "metadata": {},
   "outputs": [
    {
     "name": "stdout",
     "output_type": "stream",
     "text": [
      "{'id': '3ac21b42-b799-4f32-b684-c106b98d4d1b', 'activeEnvironment': 'Default', 'name': 'RTFFAPI_v01.Center', 'resourceRoot': '', 'soapui-version': '5.3.0'}\n"
     ]
    }
   ],
   "source": [
    "# get all attributes\n",
    "attributes = root.attrib\n",
    "print(attributes)"
   ]
  },
  {
   "cell_type": "code",
   "execution_count": 7,
   "metadata": {},
   "outputs": [
    {
     "name": "stdout",
     "output_type": "stream",
     "text": [
      "id :  3ac21b42-b799-4f32-b684-c106b98d4d1b\n",
      "name :  RTFFAPI_v01.Center\n"
     ]
    }
   ],
   "source": [
    "# extract a particular attribute\n",
    "id = attributes.get('id')\n",
    "print('id : ',id)\n",
    "name = attributes.get('name')\n",
    "print('name : ',name)\n"
   ]
  },
  {
   "cell_type": "code",
   "execution_count": null,
   "metadata": {},
   "outputs": [],
   "source": [
    "#Iterate over child nodes of root"
   ]
  },
  {
   "cell_type": "code",
   "execution_count": 12,
   "metadata": {},
   "outputs": [],
   "source": [
    "# iterate over all the nodes with tag name - holiday\n",
    "for id in root.findall('con:call'):\n",
    "    print(id)"
   ]
  },
  {
   "cell_type": "code",
   "execution_count": null,
   "metadata": {},
   "outputs": [],
   "source": [
    "#Iterate over child nodes of root and get their attributes"
   ]
  },
  {
   "cell_type": "code",
   "execution_count": 20,
   "metadata": {},
   "outputs": [
    {
     "name": "stdout",
     "output_type": "stream",
     "text": [
      "{'type': 'other'}\n",
      "other\n",
      "{'type': 'public'}\n",
      "public\n"
     ]
    }
   ],
   "source": [
    "# iterate over child nodes\n",
    "for holiday in root.findall('holiday'):\n",
    " \n",
    "    # get all attributes of a node\n",
    "    attributes = holiday.attrib\n",
    "    print(attributes)\n",
    " \n",
    "    # get a particular attribute\n",
    "    type = attributes.get('type')\n",
    "    print(type)"
   ]
  },
  {
   "cell_type": "code",
   "execution_count": 7,
   "metadata": {},
   "outputs": [
    {
     "ename": "SyntaxError",
     "evalue": "invalid syntax (<ipython-input-7-7a6aed71ef2d>, line 1)",
     "output_type": "error",
     "traceback": [
      "\u001b[1;36m  File \u001b[1;32m\"<ipython-input-7-7a6aed71ef2d>\"\u001b[1;36m, line \u001b[1;32m1\u001b[0m\n\u001b[1;33m    Access Elements of a Node\u001b[0m\n\u001b[1;37m                  ^\u001b[0m\n\u001b[1;31mSyntaxError\u001b[0m\u001b[1;31m:\u001b[0m invalid syntax\n"
     ]
    }
   ],
   "source": [
    "#Access Elements of a Node"
   ]
  },
  {
   "cell_type": "code",
   "execution_count": 59,
   "metadata": {},
   "outputs": [],
   "source": [
    "# iterate over all nodes\n",
    "for node in root.findall('id'):\n",
    " \n",
    "    # access element - name\n",
    "    name = node.find('rfs').text\n",
    "    print('name : ', name)\n",
    " \n",
    "    # access element - date\n",
    "    id = node.find('id').text\n",
    "    print('id : ', id)"
   ]
  },
  {
   "cell_type": "code",
   "execution_count": 15,
   "metadata": {},
   "outputs": [],
   "source": [
    "#Access Elements of a Node without knowing their tag names"
   ]
  },
  {
   "cell_type": "code",
   "execution_count": 24,
   "metadata": {},
   "outputs": [
    {
     "name": "stdout",
     "output_type": "stream",
     "text": [
      "{http://eviware.com/soapui/config}settings {}\n",
      "{http://eviware.com/soapui/config}interface {'{http://www.w3.org/2001/XMLSchema-instance}type': 'con:WsdlInterface', 'id': '90afd7ed-ef72-4859-860b-70cc741a3cac', 'wsaVersion': 'NONE', 'name': 'OMSWebServiceSoapBinding', 'type': 'wsdl', 'bindingName': '{http://oms.rt.ru/}OMSWebServiceSoapBinding', 'soapVersion': '1_1', 'anonymous': 'optional', 'definition': 'file:/D:/temp/API/RT.FF.API/2/RTFFAPI_v01.wsdl'}\n",
      "{http://eviware.com/soapui/config}properties {}\n",
      "{http://eviware.com/soapui/config}wssContainer {}\n",
      "{http://eviware.com/soapui/config}oAuth2ProfileContainer {}\n",
      "{http://eviware.com/soapui/config}oAuth1ProfileContainer {}\n",
      "{http://eviware.com/soapui/config}sensitiveInformation {}\n"
     ]
    }
   ],
   "source": [
    "for child in root:\n",
    "        print(child.tag, child.attrib)"
   ]
  },
  {
   "cell_type": "code",
   "execution_count": 50,
   "metadata": {},
   "outputs": [],
   "source": [
    "for item in root.findall('url'):\n",
    "    # access all elements in node\n",
    "    for element in item:\n",
    "        ele_name = element.tag\n",
    "        ele_value = item.find(element.tag).text\n",
    "        print(ele_name, ' : ', ele_value)"
   ]
  },
  {
   "cell_type": "code",
   "execution_count": 30,
   "metadata": {},
   "outputs": [
    {
     "name": "stdout",
     "output_type": "stream",
     "text": [
      "{http://eviware.com/soapui/config}soapui-project\n",
      "{http://eviware.com/soapui/config}settings\n",
      "{http://eviware.com/soapui/config}interface\n",
      "{http://eviware.com/soapui/config}settings\n",
      "{http://eviware.com/soapui/config}definitionCache\n",
      "{http://eviware.com/soapui/config}part\n",
      "{http://eviware.com/soapui/config}url\n",
      "{http://eviware.com/soapui/config}content\n",
      "{http://eviware.com/soapui/config}type\n",
      "{http://eviware.com/soapui/config}part\n",
      "{http://eviware.com/soapui/config}url\n",
      "{http://eviware.com/soapui/config}content\n",
      "{http://eviware.com/soapui/config}type\n",
      "{http://eviware.com/soapui/config}part\n",
      "{http://eviware.com/soapui/config}url\n",
      "{http://eviware.com/soapui/config}content\n",
      "{http://eviware.com/soapui/config}type\n",
      "{http://eviware.com/soapui/config}part\n",
      "{http://eviware.com/soapui/config}url\n",
      "{http://eviware.com/soapui/config}content\n",
      "{http://eviware.com/soapui/config}type\n",
      "{http://eviware.com/soapui/config}endpoints\n",
      "{http://eviware.com/soapui/config}endpoint\n",
      "{http://eviware.com/soapui/config}operation\n",
      "{http://eviware.com/soapui/config}settings\n",
      "{http://eviware.com/soapui/config}operation\n",
      "{http://eviware.com/soapui/config}settings\n",
      "{http://eviware.com/soapui/config}operation\n",
      "{http://eviware.com/soapui/config}settings\n",
      "{http://eviware.com/soapui/config}operation\n",
      "{http://eviware.com/soapui/config}settings\n",
      "{http://eviware.com/soapui/config}call\n",
      "{http://eviware.com/soapui/config}settings\n",
      "{http://eviware.com/soapui/config}encoding\n",
      "{http://eviware.com/soapui/config}endpoint\n",
      "{http://eviware.com/soapui/config}request\n",
      "{http://eviware.com/soapui/config}credentials\n",
      "{http://eviware.com/soapui/config}authType\n",
      "{http://eviware.com/soapui/config}jmsConfig\n",
      "{http://eviware.com/soapui/config}jmsPropertyConfig\n",
      "{http://eviware.com/soapui/config}wsaConfig\n",
      "{http://eviware.com/soapui/config}wsrmConfig\n",
      "{http://eviware.com/soapui/config}call\n",
      "{http://eviware.com/soapui/config}settings\n",
      "{http://eviware.com/soapui/config}setting\n",
      "{http://eviware.com/soapui/config}encoding\n",
      "{http://eviware.com/soapui/config}endpoint\n",
      "{http://eviware.com/soapui/config}request\n",
      "{http://eviware.com/soapui/config}credentials\n",
      "{http://eviware.com/soapui/config}authType\n",
      "{http://eviware.com/soapui/config}jmsConfig\n",
      "{http://eviware.com/soapui/config}jmsPropertyConfig\n",
      "{http://eviware.com/soapui/config}wsaConfig\n",
      "{http://eviware.com/soapui/config}wsrmConfig\n",
      "{http://eviware.com/soapui/config}call\n",
      "{http://eviware.com/soapui/config}settings\n",
      "{http://eviware.com/soapui/config}setting\n",
      "{http://eviware.com/soapui/config}encoding\n",
      "{http://eviware.com/soapui/config}endpoint\n",
      "{http://eviware.com/soapui/config}request\n",
      "{http://eviware.com/soapui/config}credentials\n",
      "{http://eviware.com/soapui/config}authType\n",
      "{http://eviware.com/soapui/config}jmsConfig\n",
      "{http://eviware.com/soapui/config}jmsPropertyConfig\n",
      "{http://eviware.com/soapui/config}wsaConfig\n",
      "{http://eviware.com/soapui/config}wsrmConfig\n",
      "{http://eviware.com/soapui/config}call\n",
      "{http://eviware.com/soapui/config}settings\n",
      "{http://eviware.com/soapui/config}setting\n",
      "{http://eviware.com/soapui/config}encoding\n",
      "{http://eviware.com/soapui/config}endpoint\n",
      "{http://eviware.com/soapui/config}request\n",
      "{http://eviware.com/soapui/config}credentials\n",
      "{http://eviware.com/soapui/config}authType\n",
      "{http://eviware.com/soapui/config}jmsConfig\n",
      "{http://eviware.com/soapui/config}jmsPropertyConfig\n",
      "{http://eviware.com/soapui/config}wsaConfig\n",
      "{http://eviware.com/soapui/config}wsrmConfig\n",
      "{http://eviware.com/soapui/config}call\n",
      "{http://eviware.com/soapui/config}settings\n",
      "{http://eviware.com/soapui/config}setting\n",
      "{http://eviware.com/soapui/config}encoding\n",
      "{http://eviware.com/soapui/config}endpoint\n",
      "{http://eviware.com/soapui/config}request\n",
      "{http://eviware.com/soapui/config}credentials\n",
      "{http://eviware.com/soapui/config}authType\n",
      "{http://eviware.com/soapui/config}jmsConfig\n",
      "{http://eviware.com/soapui/config}jmsPropertyConfig\n",
      "{http://eviware.com/soapui/config}wsaConfig\n",
      "{http://eviware.com/soapui/config}wsrmConfig\n",
      "{http://eviware.com/soapui/config}call\n",
      "{http://eviware.com/soapui/config}settings\n",
      "{http://eviware.com/soapui/config}setting\n",
      "{http://eviware.com/soapui/config}encoding\n",
      "{http://eviware.com/soapui/config}endpoint\n",
      "{http://eviware.com/soapui/config}request\n",
      "{http://eviware.com/soapui/config}credentials\n",
      "{http://eviware.com/soapui/config}authType\n",
      "{http://eviware.com/soapui/config}jmsConfig\n",
      "{http://eviware.com/soapui/config}jmsPropertyConfig\n",
      "{http://eviware.com/soapui/config}wsaConfig\n",
      "{http://eviware.com/soapui/config}wsrmConfig\n",
      "{http://eviware.com/soapui/config}call\n",
      "{http://eviware.com/soapui/config}settings\n",
      "{http://eviware.com/soapui/config}setting\n",
      "{http://eviware.com/soapui/config}encoding\n",
      "{http://eviware.com/soapui/config}endpoint\n",
      "{http://eviware.com/soapui/config}request\n",
      "{http://eviware.com/soapui/config}credentials\n",
      "{http://eviware.com/soapui/config}authType\n",
      "{http://eviware.com/soapui/config}jmsConfig\n",
      "{http://eviware.com/soapui/config}jmsPropertyConfig\n",
      "{http://eviware.com/soapui/config}wsaConfig\n",
      "{http://eviware.com/soapui/config}wsrmConfig\n",
      "{http://eviware.com/soapui/config}call\n",
      "{http://eviware.com/soapui/config}settings\n",
      "{http://eviware.com/soapui/config}setting\n",
      "{http://eviware.com/soapui/config}encoding\n",
      "{http://eviware.com/soapui/config}endpoint\n",
      "{http://eviware.com/soapui/config}request\n",
      "{http://eviware.com/soapui/config}credentials\n",
      "{http://eviware.com/soapui/config}authType\n",
      "{http://eviware.com/soapui/config}jmsConfig\n",
      "{http://eviware.com/soapui/config}jmsPropertyConfig\n",
      "{http://eviware.com/soapui/config}wsaConfig\n",
      "{http://eviware.com/soapui/config}wsrmConfig\n",
      "{http://eviware.com/soapui/config}call\n",
      "{http://eviware.com/soapui/config}settings\n",
      "{http://eviware.com/soapui/config}setting\n",
      "{http://eviware.com/soapui/config}encoding\n",
      "{http://eviware.com/soapui/config}endpoint\n",
      "{http://eviware.com/soapui/config}request\n",
      "{http://eviware.com/soapui/config}credentials\n",
      "{http://eviware.com/soapui/config}authType\n",
      "{http://eviware.com/soapui/config}jmsConfig\n",
      "{http://eviware.com/soapui/config}jmsPropertyConfig\n",
      "{http://eviware.com/soapui/config}wsaConfig\n",
      "{http://eviware.com/soapui/config}wsrmConfig\n",
      "{http://eviware.com/soapui/config}call\n",
      "{http://eviware.com/soapui/config}settings\n",
      "{http://eviware.com/soapui/config}setting\n",
      "{http://eviware.com/soapui/config}encoding\n",
      "{http://eviware.com/soapui/config}endpoint\n",
      "{http://eviware.com/soapui/config}request\n",
      "{http://eviware.com/soapui/config}credentials\n",
      "{http://eviware.com/soapui/config}authType\n",
      "{http://eviware.com/soapui/config}jmsConfig\n",
      "{http://eviware.com/soapui/config}jmsPropertyConfig\n",
      "{http://eviware.com/soapui/config}wsaConfig\n",
      "{http://eviware.com/soapui/config}wsrmConfig\n",
      "{http://eviware.com/soapui/config}call\n",
      "{http://eviware.com/soapui/config}settings\n",
      "{http://eviware.com/soapui/config}setting\n",
      "{http://eviware.com/soapui/config}encoding\n",
      "{http://eviware.com/soapui/config}endpoint\n",
      "{http://eviware.com/soapui/config}request\n",
      "{http://eviware.com/soapui/config}credentials\n",
      "{http://eviware.com/soapui/config}authType\n",
      "{http://eviware.com/soapui/config}jmsConfig\n",
      "{http://eviware.com/soapui/config}jmsPropertyConfig\n",
      "{http://eviware.com/soapui/config}wsaConfig\n",
      "{http://eviware.com/soapui/config}wsrmConfig\n",
      "{http://eviware.com/soapui/config}call\n",
      "{http://eviware.com/soapui/config}settings\n",
      "{http://eviware.com/soapui/config}setting\n",
      "{http://eviware.com/soapui/config}encoding\n",
      "{http://eviware.com/soapui/config}endpoint\n",
      "{http://eviware.com/soapui/config}request\n",
      "{http://eviware.com/soapui/config}credentials\n",
      "{http://eviware.com/soapui/config}authType\n",
      "{http://eviware.com/soapui/config}jmsConfig\n",
      "{http://eviware.com/soapui/config}jmsPropertyConfig\n",
      "{http://eviware.com/soapui/config}wsaConfig\n",
      "{http://eviware.com/soapui/config}wsrmConfig\n",
      "{http://eviware.com/soapui/config}call\n",
      "{http://eviware.com/soapui/config}settings\n",
      "{http://eviware.com/soapui/config}setting\n",
      "{http://eviware.com/soapui/config}encoding\n",
      "{http://eviware.com/soapui/config}endpoint\n",
      "{http://eviware.com/soapui/config}request\n",
      "{http://eviware.com/soapui/config}credentials\n",
      "{http://eviware.com/soapui/config}authType\n",
      "{http://eviware.com/soapui/config}jmsConfig\n",
      "{http://eviware.com/soapui/config}jmsPropertyConfig\n",
      "{http://eviware.com/soapui/config}wsaConfig\n",
      "{http://eviware.com/soapui/config}wsrmConfig\n",
      "{http://eviware.com/soapui/config}call\n",
      "{http://eviware.com/soapui/config}settings\n",
      "{http://eviware.com/soapui/config}setting\n",
      "{http://eviware.com/soapui/config}encoding\n",
      "{http://eviware.com/soapui/config}endpoint\n",
      "{http://eviware.com/soapui/config}request\n",
      "{http://eviware.com/soapui/config}credentials\n",
      "{http://eviware.com/soapui/config}authType\n",
      "{http://eviware.com/soapui/config}jmsConfig\n",
      "{http://eviware.com/soapui/config}jmsPropertyConfig\n",
      "{http://eviware.com/soapui/config}wsaConfig\n",
      "{http://eviware.com/soapui/config}wsrmConfig\n",
      "{http://eviware.com/soapui/config}call\n",
      "{http://eviware.com/soapui/config}settings\n",
      "{http://eviware.com/soapui/config}setting\n",
      "{http://eviware.com/soapui/config}encoding\n",
      "{http://eviware.com/soapui/config}endpoint\n",
      "{http://eviware.com/soapui/config}request\n",
      "{http://eviware.com/soapui/config}credentials\n",
      "{http://eviware.com/soapui/config}authType\n",
      "{http://eviware.com/soapui/config}jmsConfig\n",
      "{http://eviware.com/soapui/config}jmsPropertyConfig\n",
      "{http://eviware.com/soapui/config}wsaConfig\n",
      "{http://eviware.com/soapui/config}wsrmConfig\n",
      "{http://eviware.com/soapui/config}call\n",
      "{http://eviware.com/soapui/config}settings\n",
      "{http://eviware.com/soapui/config}setting\n",
      "{http://eviware.com/soapui/config}encoding\n",
      "{http://eviware.com/soapui/config}endpoint\n",
      "{http://eviware.com/soapui/config}request\n",
      "{http://eviware.com/soapui/config}credentials\n",
      "{http://eviware.com/soapui/config}authType\n",
      "{http://eviware.com/soapui/config}jmsConfig\n",
      "{http://eviware.com/soapui/config}jmsPropertyConfig\n",
      "{http://eviware.com/soapui/config}wsaConfig\n",
      "{http://eviware.com/soapui/config}wsrmConfig\n",
      "{http://eviware.com/soapui/config}call\n",
      "{http://eviware.com/soapui/config}settings\n",
      "{http://eviware.com/soapui/config}setting\n",
      "{http://eviware.com/soapui/config}encoding\n",
      "{http://eviware.com/soapui/config}endpoint\n",
      "{http://eviware.com/soapui/config}request\n",
      "{http://eviware.com/soapui/config}credentials\n",
      "{http://eviware.com/soapui/config}authType\n",
      "{http://eviware.com/soapui/config}jmsConfig\n",
      "{http://eviware.com/soapui/config}jmsPropertyConfig\n",
      "{http://eviware.com/soapui/config}wsaConfig\n",
      "{http://eviware.com/soapui/config}wsrmConfig\n",
      "{http://eviware.com/soapui/config}call\n",
      "{http://eviware.com/soapui/config}settings\n",
      "{http://eviware.com/soapui/config}setting\n",
      "{http://eviware.com/soapui/config}encoding\n",
      "{http://eviware.com/soapui/config}endpoint\n",
      "{http://eviware.com/soapui/config}request\n",
      "{http://eviware.com/soapui/config}credentials\n",
      "{http://eviware.com/soapui/config}authType\n",
      "{http://eviware.com/soapui/config}jmsConfig\n",
      "{http://eviware.com/soapui/config}jmsPropertyConfig\n",
      "{http://eviware.com/soapui/config}wsaConfig\n",
      "{http://eviware.com/soapui/config}wsrmConfig\n",
      "{http://eviware.com/soapui/config}call\n",
      "{http://eviware.com/soapui/config}settings\n",
      "{http://eviware.com/soapui/config}setting\n",
      "{http://eviware.com/soapui/config}encoding\n",
      "{http://eviware.com/soapui/config}endpoint\n",
      "{http://eviware.com/soapui/config}request\n",
      "{http://eviware.com/soapui/config}credentials\n",
      "{http://eviware.com/soapui/config}authType\n",
      "{http://eviware.com/soapui/config}jmsConfig\n",
      "{http://eviware.com/soapui/config}jmsPropertyConfig\n",
      "{http://eviware.com/soapui/config}wsaConfig\n",
      "{http://eviware.com/soapui/config}wsrmConfig\n",
      "{http://eviware.com/soapui/config}call\n",
      "{http://eviware.com/soapui/config}settings\n",
      "{http://eviware.com/soapui/config}setting\n",
      "{http://eviware.com/soapui/config}encoding\n",
      "{http://eviware.com/soapui/config}endpoint\n",
      "{http://eviware.com/soapui/config}request\n",
      "{http://eviware.com/soapui/config}credentials\n",
      "{http://eviware.com/soapui/config}authType\n",
      "{http://eviware.com/soapui/config}jmsConfig\n",
      "{http://eviware.com/soapui/config}jmsPropertyConfig\n",
      "{http://eviware.com/soapui/config}wsaConfig\n",
      "{http://eviware.com/soapui/config}wsrmConfig\n",
      "{http://eviware.com/soapui/config}call\n",
      "{http://eviware.com/soapui/config}settings\n",
      "{http://eviware.com/soapui/config}setting\n",
      "{http://eviware.com/soapui/config}encoding\n",
      "{http://eviware.com/soapui/config}endpoint\n",
      "{http://eviware.com/soapui/config}request\n",
      "{http://eviware.com/soapui/config}credentials\n",
      "{http://eviware.com/soapui/config}authType\n",
      "{http://eviware.com/soapui/config}jmsConfig\n",
      "{http://eviware.com/soapui/config}jmsPropertyConfig\n",
      "{http://eviware.com/soapui/config}wsaConfig\n",
      "{http://eviware.com/soapui/config}wsrmConfig\n",
      "{http://eviware.com/soapui/config}properties\n",
      "{http://eviware.com/soapui/config}wssContainer\n",
      "{http://eviware.com/soapui/config}oAuth2ProfileContainer\n",
      "{http://eviware.com/soapui/config}oAuth1ProfileContainer\n",
      "{http://eviware.com/soapui/config}sensitiveInformation\n"
     ]
    }
   ],
   "source": [
    "iter_ = root.getiterator()\n",
    "for elem in iter_:\n",
    "    print(elem.tag)"
   ]
  },
  {
   "cell_type": "code",
   "execution_count": 31,
   "metadata": {},
   "outputs": [
    {
     "name": "stdout",
     "output_type": "stream",
     "text": [
      "[<Element '{http://eviware.com/soapui/config}settings' at 0x000001D85DC889A8>, <Element '{http://eviware.com/soapui/config}interface' at 0x000001D85DC88BD8>, <Element '{http://eviware.com/soapui/config}properties' at 0x000001D85DB224A8>, <Element '{http://eviware.com/soapui/config}wssContainer' at 0x000001D85DB22548>, <Element '{http://eviware.com/soapui/config}oAuth2ProfileContainer' at 0x000001D85DB22598>, <Element '{http://eviware.com/soapui/config}oAuth1ProfileContainer' at 0x000001D85DB225E8>, <Element '{http://eviware.com/soapui/config}sensitiveInformation' at 0x000001D85DB22638>]\n"
     ]
    }
   ],
   "source": [
    "appointments = root.getchildren()\n",
    "print(appointments)"
   ]
  },
  {
   "cell_type": "code",
   "execution_count": 56,
   "metadata": {},
   "outputs": [
    {
     "ename": "IndexError",
     "evalue": "child index out of range",
     "output_type": "error",
     "traceback": [
      "\u001b[1;31m---------------------------------------------------------------------------\u001b[0m",
      "\u001b[1;31mIndexError\u001b[0m                                Traceback (most recent call last)",
      "\u001b[1;32m<ipython-input-56-d4da1267d7e8>\u001b[0m in \u001b[0;36m<module>\u001b[1;34m()\u001b[0m\n\u001b[1;32m----> 1\u001b[1;33m \u001b[0mroot\u001b[0m\u001b[1;33m[\u001b[0m\u001b[1;36m0\u001b[0m\u001b[1;33m]\u001b[0m\u001b[1;33m[\u001b[0m\u001b[1;36m10\u001b[0m\u001b[1;33m]\u001b[0m\u001b[1;33m.\u001b[0m\u001b[0mtext\u001b[0m\u001b[1;33m\u001b[0m\u001b[0m\n\u001b[0m",
      "\u001b[1;31mIndexError\u001b[0m: child index out of range"
     ]
    }
   ],
   "source": [
    "root[0][10].text"
   ]
  },
  {
   "cell_type": "code",
   "execution_count": null,
   "metadata": {},
   "outputs": [],
   "source": []
  },
  {
   "cell_type": "code",
   "execution_count": null,
   "metadata": {},
   "outputs": [],
   "source": []
  },
  {
   "cell_type": "code",
   "execution_count": null,
   "metadata": {},
   "outputs": [],
   "source": []
  },
  {
   "cell_type": "code",
   "execution_count": null,
   "metadata": {},
   "outputs": [],
   "source": []
  },
  {
   "cell_type": "code",
   "execution_count": 80,
   "metadata": {},
   "outputs": [
    {
     "data": {
      "text/plain": [
       "[<Element '{http://eviware.com/soapui/config}call' at 0x000001D85DD5D228>]"
      ]
     },
     "execution_count": 80,
     "metadata": {},
     "output_type": "execute_result"
    }
   ],
   "source": [
    "root.findall(\".//*[@name='1.1. FinBlock_rfs_vIMS_profile']\")"
   ]
  },
  {
   "cell_type": "code",
   "execution_count": 85,
   "metadata": {},
   "outputs": [
    {
     "data": {
      "text/plain": [
       "[]"
      ]
     },
     "execution_count": 85,
     "metadata": {},
     "output_type": "execute_result"
    }
   ],
   "source": [
    "root.findall(\".//*[@name='rfs_vIMS_profile']\")"
   ]
  },
  {
   "cell_type": "code",
   "execution_count": null,
   "metadata": {},
   "outputs": [],
   "source": []
  },
  {
   "cell_type": "code",
   "execution_count": null,
   "metadata": {},
   "outputs": [],
   "source": []
  },
  {
   "cell_type": "code",
   "execution_count": null,
   "metadata": {},
   "outputs": [],
   "source": []
  },
  {
   "cell_type": "code",
   "execution_count": null,
   "metadata": {},
   "outputs": [],
   "source": []
  },
  {
   "cell_type": "code",
   "execution_count": 93,
   "metadata": {},
   "outputs": [
    {
     "name": "stdout",
     "output_type": "stream",
     "text": [
      "OMSWebServiceSoapBinding\n",
      "amendOrder\n",
      "cancelOrder\n",
      "queryOrder\n",
      "submitOrder\n",
      "Request 1\n",
      "1.1. FinBlock_rfs_vIMS_profile\n",
      "1.2. FinUnBlock_rfs_vIMS_profile\n",
      "2.1.1 Create_rfs_alarm_clock\n",
      "2.1.2 Cease_rfs_alarm_clock\n",
      "2.2.1 Create_rfs_blacklist_incoming\n",
      "2.3.1 Create_rfs_CFB\n",
      "3.1.1 Create_rfs_vIMS_profile\n",
      "3.1.2 Cease_rfs_vIMS_profile\n",
      "3.2.1 Suspend_rfs_vIMS_profile\n",
      "3.2.2 Resume_rfs_vIMS_profile\n",
      "3.2.3 AdmBlock_rfs_vIMS_profile\n",
      "3.2.4 AdmUnBlock_rfs_vIMS_profile\n",
      "3.3.1 Suspend_rfs_intercity_calls\n",
      "3.3.2 FinBlock_rfs_international_calls\n",
      "3.3.3 AdmUnBlock_rfs_interzonal_calls\n",
      "3.4.1 Suspend/Admblock_rfs_local_calls\n",
      "3.4.2 Resume/Admunblock_rfs_local_calls\n",
      "3.4.3 FinBlock_rfs_local_calls\n",
      "3.4.4 FinUnBlock_rfs_local_calls\n",
      "2.4.1 Create_rfs_long_distance_operator\n"
     ]
    }
   ],
   "source": [
    "for item in root.findall(\".//*[@name]\"):\n",
    "    name1=item.get('name')\n",
    "    print(name1)"
   ]
  },
  {
   "cell_type": "code",
   "execution_count": null,
   "metadata": {},
   "outputs": [],
   "source": []
  },
  {
   "cell_type": "code",
   "execution_count": 86,
   "metadata": {},
   "outputs": [
    {
     "data": {
      "text/plain": [
       "[<Element '{http://eviware.com/soapui/config}interface' at 0x000001D85DD3B048>,\n",
       " <Element '{http://eviware.com/soapui/config}operation' at 0x000001D85DD4FD68>,\n",
       " <Element '{http://eviware.com/soapui/config}operation' at 0x000001D85DD4FE08>,\n",
       " <Element '{http://eviware.com/soapui/config}operation' at 0x000001D85DD4FEA8>,\n",
       " <Element '{http://eviware.com/soapui/config}operation' at 0x000001D85DD4FF48>,\n",
       " <Element '{http://eviware.com/soapui/config}call' at 0x000001D85DD55048>,\n",
       " <Element '{http://eviware.com/soapui/config}call' at 0x000001D85DD5D228>,\n",
       " <Element '{http://eviware.com/soapui/config}call' at 0x000001D85DD5D9A8>,\n",
       " <Element '{http://eviware.com/soapui/config}call' at 0x000001D85DD60188>,\n",
       " <Element '{http://eviware.com/soapui/config}call' at 0x000001D85DD60908>,\n",
       " <Element '{http://eviware.com/soapui/config}call' at 0x000001D85DD64098>,\n",
       " <Element '{http://eviware.com/soapui/config}call' at 0x000001D85DD647C8>,\n",
       " <Element '{http://eviware.com/soapui/config}call' at 0x000001D85DD64F48>,\n",
       " <Element '{http://eviware.com/soapui/config}call' at 0x000001D85DD68728>,\n",
       " <Element '{http://eviware.com/soapui/config}call' at 0x000001D85DD68EA8>,\n",
       " <Element '{http://eviware.com/soapui/config}call' at 0x000001D85DD6B688>,\n",
       " <Element '{http://eviware.com/soapui/config}call' at 0x000001D85DD6BE08>,\n",
       " <Element '{http://eviware.com/soapui/config}call' at 0x000001D85DD6E598>,\n",
       " <Element '{http://eviware.com/soapui/config}call' at 0x000001D85DD6ECC8>,\n",
       " <Element '{http://eviware.com/soapui/config}call' at 0x000001D85DDB3458>,\n",
       " <Element '{http://eviware.com/soapui/config}call' at 0x000001D85DDB3B88>,\n",
       " <Element '{http://eviware.com/soapui/config}call' at 0x000001D85DDB8318>,\n",
       " <Element '{http://eviware.com/soapui/config}call' at 0x000001D85DDB8A48>,\n",
       " <Element '{http://eviware.com/soapui/config}call' at 0x000001D85DDBB228>,\n",
       " <Element '{http://eviware.com/soapui/config}call' at 0x000001D85DDBB958>,\n",
       " <Element '{http://eviware.com/soapui/config}call' at 0x000001D85DDC10E8>]"
      ]
     },
     "execution_count": 86,
     "metadata": {},
     "output_type": "execute_result"
    }
   ],
   "source": [
    "root.findall(\".//*[@name]\")\n"
   ]
  },
  {
   "cell_type": "code",
   "execution_count": 76,
   "metadata": {},
   "outputs": [
    {
     "name": "stdout",
     "output_type": "stream",
     "text": [
      "{'id': 'f31a5e98-9ce8-4bd9-8f44-07151926b445', 'isOneWay': 'false', 'action': '', 'name': 'amendOrder', 'bindingOperationName': 'amendOrder', 'type': 'Request-Response', 'outputName': 'amendOrderResponse', 'inputName': 'amendOrderRequest', 'receivesAttachments': 'false', 'sendsAttachments': 'false', 'anonymous': 'optional'}\n"
     ]
    }
   ],
   "source": [
    "attributes = root[1][3].attrib\n",
    "print(attributes)"
   ]
  },
  {
   "cell_type": "code",
   "execution_count": null,
   "metadata": {},
   "outputs": [],
   "source": []
  },
  {
   "cell_type": "code",
   "execution_count": null,
   "metadata": {},
   "outputs": [],
   "source": []
  },
  {
   "cell_type": "code",
   "execution_count": null,
   "metadata": {},
   "outputs": [],
   "source": []
  },
  {
   "cell_type": "code",
   "execution_count": null,
   "metadata": {},
   "outputs": [],
   "source": []
  },
  {
   "cell_type": "code",
   "execution_count": null,
   "metadata": {},
   "outputs": [],
   "source": []
  },
  {
   "cell_type": "code",
   "execution_count": null,
   "metadata": {},
   "outputs": [],
   "source": []
  },
  {
   "cell_type": "code",
   "execution_count": null,
   "metadata": {},
   "outputs": [],
   "source": []
  },
  {
   "cell_type": "code",
   "execution_count": null,
   "metadata": {},
   "outputs": [],
   "source": []
  }
 ],
 "metadata": {
  "kernelspec": {
   "display_name": "Python 3",
   "language": "python",
   "name": "python3"
  },
  "language_info": {
   "codemirror_mode": {
    "name": "ipython",
    "version": 3
   },
   "file_extension": ".py",
   "mimetype": "text/x-python",
   "name": "python",
   "nbconvert_exporter": "python",
   "pygments_lexer": "ipython3",
   "version": "3.6.5"
  }
 },
 "nbformat": 4,
 "nbformat_minor": 2
}
