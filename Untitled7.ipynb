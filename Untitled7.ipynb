{
 "cells": [
  {
   "cell_type": "code",
   "execution_count": 29,
   "metadata": {},
   "outputs": [],
   "source": [
    "# Python XML Parsing\n",
    "import xml.etree.ElementTree as ET\n",
    "root = ET.parse('sample2.xml').getroot()"
   ]
  },
  {
   "cell_type": "code",
   "execution_count": 30,
   "metadata": {},
   "outputs": [],
   "source": [
    "#Get Root Tag Name"
   ]
  },
  {
   "cell_type": "code",
   "execution_count": 31,
   "metadata": {},
   "outputs": [
    {
     "name": "stdout",
     "output_type": "stream",
     "text": [
      "data\n"
     ]
    }
   ],
   "source": [
    "tag = root.tag\n",
    "print(tag)"
   ]
  },
  {
   "cell_type": "code",
   "execution_count": 32,
   "metadata": {},
   "outputs": [],
   "source": [
    "#Get Attributes of Root"
   ]
  },
  {
   "cell_type": "code",
   "execution_count": 33,
   "metadata": {},
   "outputs": [
    {
     "name": "stdout",
     "output_type": "stream",
     "text": [
      "{}\n"
     ]
    }
   ],
   "source": [
    "# get all attributes\n",
    "attributes = root.attrib\n",
    "print(attributes)"
   ]
  },
  {
   "cell_type": "code",
   "execution_count": 18,
   "metadata": {},
   "outputs": [
    {
     "name": "stdout",
     "output_type": "stream",
     "text": [
      "year :  2017\n"
     ]
    }
   ],
   "source": [
    "# extract a particular attribute\n",
    "year = attributes.get('year')\n",
    "print('year : ',year)"
   ]
  },
  {
   "cell_type": "code",
   "execution_count": null,
   "metadata": {},
   "outputs": [],
   "source": [
    "#Iterate over child nodes of root"
   ]
  },
  {
   "cell_type": "code",
   "execution_count": 35,
   "metadata": {},
   "outputs": [
    {
     "name": "stdout",
     "output_type": "stream",
     "text": [
      "<Element 'country' at 0x0000025714B1B408>\n",
      "<Element 'country' at 0x0000025714B1B638>\n",
      "<Element 'country' at 0x0000025714B1B7C8>\n"
     ]
    }
   ],
   "source": [
    "# iterate over all the nodes with tag name - holiday\n",
    "for country in root.findall('country'):\n",
    "    print(country)"
   ]
  },
  {
   "cell_type": "code",
   "execution_count": null,
   "metadata": {},
   "outputs": [],
   "source": [
    "#Iterate over child nodes of root and get their attributes"
   ]
  },
  {
   "cell_type": "code",
   "execution_count": 38,
   "metadata": {},
   "outputs": [
    {
     "name": "stdout",
     "output_type": "stream",
     "text": [
      "{'name': 'Liechtenstein'}\n",
      "None\n",
      "{'name': 'Singapore'}\n",
      "None\n",
      "{'name': 'Panama'}\n",
      "None\n"
     ]
    }
   ],
   "source": [
    "# iterate over child nodes\n",
    "for country in root.findall('country'):\n",
    " \n",
    "    # get all attributes of a node\n",
    "    attributes = country.attrib\n",
    "    print(attributes)\n",
    " \n",
    "    # get a particular attribute\n",
    "    type = attributes.get('type')\n",
    "    print(type)"
   ]
  },
  {
   "cell_type": "code",
   "execution_count": 44,
   "metadata": {},
   "outputs": [
    {
     "name": "stdout",
     "output_type": "stream",
     "text": [
      "{'name': 'Costa Rica', 'direction': 'W'}\n",
      "Costa Rica\n",
      "{'name': 'Colombia', 'direction': 'E'}\n",
      "Colombia\n"
     ]
    }
   ],
   "source": [
    "# iterate over child nodes\n",
    "for neighbor in country.findall('neighbor'):\n",
    " \n",
    "    # get all attributes of a node\n",
    "    attributes = neighbor.attrib\n",
    "    print(attributes)\n",
    " \n",
    "    # get a particular attribute\n",
    "    type = attributes.get('name')\n",
    "    print(type)"
   ]
  },
  {
   "cell_type": "code",
   "execution_count": 21,
   "metadata": {},
   "outputs": [],
   "source": [
    "#Access Elements of a Node"
   ]
  },
  {
   "cell_type": "code",
   "execution_count": 57,
   "metadata": {},
   "outputs": [
    {
     "ename": "AttributeError",
     "evalue": "'NoneType' object has no attribute 'name'",
     "output_type": "error",
     "traceback": [
      "\u001b[1;31m---------------------------------------------------------------------------\u001b[0m",
      "\u001b[1;31mAttributeError\u001b[0m                            Traceback (most recent call last)",
      "\u001b[1;32m<ipython-input-57-b277883a1741>\u001b[0m in \u001b[0;36m<module>\u001b[1;34m()\u001b[0m\n\u001b[0;32m      3\u001b[0m \u001b[1;33m\u001b[0m\u001b[0m\n\u001b[0;32m      4\u001b[0m     \u001b[1;31m# access element - name\u001b[0m\u001b[1;33m\u001b[0m\u001b[1;33m\u001b[0m\u001b[0m\n\u001b[1;32m----> 5\u001b[1;33m     \u001b[0mname1\u001b[0m \u001b[1;33m=\u001b[0m \u001b[0mneighbor\u001b[0m\u001b[1;33m.\u001b[0m\u001b[0mfind\u001b[0m\u001b[1;33m(\u001b[0m\u001b[1;34m'Costa'\u001b[0m\u001b[1;33m)\u001b[0m\u001b[1;33m.\u001b[0m\u001b[0mname\u001b[0m\u001b[1;33m\u001b[0m\u001b[0m\n\u001b[0m\u001b[0;32m      6\u001b[0m     \u001b[0mprint\u001b[0m\u001b[1;33m(\u001b[0m\u001b[1;34m'name : '\u001b[0m\u001b[1;33m,\u001b[0m \u001b[0mname1\u001b[0m\u001b[1;33m)\u001b[0m\u001b[1;33m\u001b[0m\u001b[0m\n",
      "\u001b[1;31mAttributeError\u001b[0m: 'NoneType' object has no attribute 'name'"
     ]
    }
   ],
   "source": [
    "# iterate over all nodes\n",
    "for neighbor in country.findall('neighbor'):\n",
    " \n",
    "    # access element - name\n",
    "    name1 = neighbor.find('Costa').name\n",
    "    print('name : ', name1)"
   ]
  },
  {
   "cell_type": "code",
   "execution_count": 22,
   "metadata": {},
   "outputs": [],
   "source": [
    "#Access Elements of a Node without knowing their tag names"
   ]
  },
  {
   "cell_type": "code",
   "execution_count": 62,
   "metadata": {},
   "outputs": [
    {
     "name": "stdout",
     "output_type": "stream",
     "text": [
      "rank  :  1\n",
      "year  :  2008\n",
      "gdppc  :  141100\n",
      "neighbor  :  None\n",
      "neighbor  :  None\n",
      "rank  :  4\n",
      "year  :  2011\n",
      "gdppc  :  59900\n",
      "neighbor  :  None\n",
      "rank  :  68\n",
      "year  :  2011\n",
      "gdppc  :  13600\n",
      "neighbor  :  None\n",
      "neighbor  :  None\n"
     ]
    }
   ],
   "source": [
    "for holiday in root.findall('country'):\n",
    "    # access all elements in node\n",
    "    for element in holiday:\n",
    "        ele_name = element.tag\n",
    "        ele_value = holiday.find(element.tag).text\n",
    "        print(ele_name, ' : ', ele_value)"
   ]
  },
  {
   "cell_type": "code",
   "execution_count": 63,
   "metadata": {},
   "outputs": [
    {
     "data": {
      "text/plain": [
       "'2008'"
      ]
     },
     "execution_count": 63,
     "metadata": {},
     "output_type": "execute_result"
    }
   ],
   "source": [
    "root[0][1].text\n"
   ]
  },
  {
   "cell_type": "code",
   "execution_count": null,
   "metadata": {},
   "outputs": [],
   "source": []
  }
 ],
 "metadata": {
  "kernelspec": {
   "display_name": "Python 3",
   "language": "python",
   "name": "python3"
  },
  "language_info": {
   "codemirror_mode": {
    "name": "ipython",
    "version": 3
   },
   "file_extension": ".py",
   "mimetype": "text/x-python",
   "name": "python",
   "nbconvert_exporter": "python",
   "pygments_lexer": "ipython3",
   "version": "3.6.5"
  }
 },
 "nbformat": 4,
 "nbformat_minor": 2
}
