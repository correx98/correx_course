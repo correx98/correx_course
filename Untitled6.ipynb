{
 "cells": [
  {
   "cell_type": "code",
   "execution_count": 1,
   "metadata": {},
   "outputs": [
    {
     "name": "stdout",
     "output_type": "stream",
     "text": [
      "{http://eviware.com/soapui/config}soapui-project\n"
     ]
    }
   ],
   "source": [
    "# Python XML Parsing\n",
    "import xml.etree.ElementTree as ET\n",
    "root = ET.parse('RTFFAPI.xml').getroot()\n",
    "tag = root.tag\n",
    "print(tag)"
   ]
  },
  {
   "cell_type": "code",
   "execution_count": 4,
   "metadata": {},
   "outputs": [
    {
     "name": "stdout",
     "output_type": "stream",
     "text": [
      "{'id': '3ac21b42-b799-4f32-b684-c106b98d4d1b', 'activeEnvironment': 'Default', 'name': 'RTFFAPI_v01.Center', 'resourceRoot': '', 'soapui-version': '5.3.0'}\n",
      "name :  RTFFAPI_v01.Center\n"
     ]
    }
   ],
   "source": [
    "# Python XML Parsing\n",
    "import xml.etree.ElementTree as ET\n",
    "root = ET.parse('RTFFAPI.xml').getroot()\n",
    " \n",
    "# get all attributes\n",
    "attributes = root.attrib\n",
    "print(attributes)\n",
    " \n",
    "# extract a particular attribute\n",
    "name = attributes.get('name')\n",
    "print('name : ',name)"
   ]
  },
  {
   "cell_type": "code",
   "execution_count": 18,
   "metadata": {},
   "outputs": [],
   "source": [
    "for name in root.findall('name'):\n",
    "    print(name)"
   ]
  },
  {
   "cell_type": "code",
   "execution_count": 19,
   "metadata": {},
   "outputs": [
    {
     "ename": "NameError",
     "evalue": "name 'orderItems' is not defined",
     "output_type": "error",
     "traceback": [
      "\u001b[1;31m---------------------------------------------------------------------------\u001b[0m",
      "\u001b[1;31mNameError\u001b[0m                                 Traceback (most recent call last)",
      "\u001b[1;32m<ipython-input-19-50d6da4f4f30>\u001b[0m in \u001b[0;36m<module>\u001b[1;34m()\u001b[0m\n\u001b[1;32m----> 1\u001b[1;33m \u001b[1;32mfor\u001b[0m \u001b[0mspecId\u001b[0m \u001b[1;32min\u001b[0m \u001b[0morderItems\u001b[0m\u001b[1;33m.\u001b[0m\u001b[0mfindall\u001b[0m\u001b[1;33m(\u001b[0m\u001b[1;34m'specId'\u001b[0m\u001b[1;33m)\u001b[0m\u001b[1;33m:\u001b[0m\u001b[1;33m\u001b[0m\u001b[0m\n\u001b[0m\u001b[0;32m      2\u001b[0m \u001b[1;33m\u001b[0m\u001b[0m\n\u001b[0;32m      3\u001b[0m     \u001b[1;31m# get all attributes of a node\u001b[0m\u001b[1;33m\u001b[0m\u001b[1;33m\u001b[0m\u001b[0m\n\u001b[0;32m      4\u001b[0m     \u001b[0mattributes\u001b[0m \u001b[1;33m=\u001b[0m \u001b[0morderItems\u001b[0m\u001b[1;33m.\u001b[0m\u001b[0mattrib\u001b[0m\u001b[1;33m\u001b[0m\u001b[0m\n\u001b[0;32m      5\u001b[0m     \u001b[0mprint\u001b[0m\u001b[1;33m(\u001b[0m\u001b[0mattributes\u001b[0m\u001b[1;33m)\u001b[0m\u001b[1;33m\u001b[0m\u001b[0m\n",
      "\u001b[1;31mNameError\u001b[0m: name 'orderItems' is not defined"
     ]
    }
   ],
   "source": [
    "for specId in orderItems.findall('specId'):\n",
    " \n",
    "    # get all attributes of a node\n",
    "    attributes = orderItems.attrib\n",
    "    print(attributes)\n",
    " \n",
    "    # get a particular attribute\n",
    "    type = attributes.get('specId')\n",
    "    print(type)"
   ]
  },
  {
   "cell_type": "code",
   "execution_count": null,
   "metadata": {},
   "outputs": [],
   "source": [
    "for holiday in root.findall('holiday'):\n",
    " \n",
    "    # access element - name\n",
    "    name = holiday.find('name').text\n",
    "    print('name : ', name)\n",
    " \n",
    "    # access element - date\n",
    "    date = holiday.find('date').text\n",
    "    print('date : ', date)"
   ]
  }
 ],
 "metadata": {
  "kernelspec": {
   "display_name": "Python 3",
   "language": "python",
   "name": "python3"
  },
  "language_info": {
   "codemirror_mode": {
    "name": "ipython",
    "version": 3
   },
   "file_extension": ".py",
   "mimetype": "text/x-python",
   "name": "python",
   "nbconvert_exporter": "python",
   "pygments_lexer": "ipython3",
   "version": "3.6.5"
  }
 },
 "nbformat": 4,
 "nbformat_minor": 2
}
