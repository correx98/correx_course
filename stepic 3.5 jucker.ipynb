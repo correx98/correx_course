{
 "cells": [
  {
   "cell_type": "code",
   "execution_count": 1,
   "metadata": {},
   "outputs": [],
   "source": [
    "# Code you have previously used to load data\n",
    "import pandas as pd\n",
    "from sklearn.ensemble import RandomForestClassifier\n",
    "from sklearn.model_selection import GridSearchCV\n",
    "from sklearn.model_selection import train_test_split\n",
    "import numpy as np\n",
    "\n",
    "data = pd.read_csv('invasion.csv')\n",
    "val_X = pd.read_csv('operative_information.csv')\n",
    "\n"
   ]
  },
  {
   "cell_type": "code",
   "execution_count": 2,
   "metadata": {},
   "outputs": [
    {
     "data": {
      "text/html": [
       "<div>\n",
       "<style scoped>\n",
       "    .dataframe tbody tr th:only-of-type {\n",
       "        vertical-align: middle;\n",
       "    }\n",
       "\n",
       "    .dataframe tbody tr th {\n",
       "        vertical-align: top;\n",
       "    }\n",
       "\n",
       "    .dataframe thead th {\n",
       "        text-align: right;\n",
       "    }\n",
       "</style>\n",
       "<table border=\"1\" class=\"dataframe\">\n",
       "  <thead>\n",
       "    <tr style=\"text-align: right;\">\n",
       "      <th></th>\n",
       "      <th>class</th>\n",
       "      <th>g_reflection</th>\n",
       "      <th>i_reflection</th>\n",
       "      <th>speed</th>\n",
       "      <th>brightness</th>\n",
       "      <th>time_of_observance</th>\n",
       "      <th>volume</th>\n",
       "    </tr>\n",
       "  </thead>\n",
       "  <tbody>\n",
       "    <tr>\n",
       "      <th>0</th>\n",
       "      <td>transport</td>\n",
       "      <td>2.190672</td>\n",
       "      <td>6.716633</td>\n",
       "      <td>62.168208</td>\n",
       "      <td>0.347465</td>\n",
       "      <td>158221</td>\n",
       "      <td>44.932446</td>\n",
       "    </tr>\n",
       "    <tr>\n",
       "      <th>1</th>\n",
       "      <td>transport</td>\n",
       "      <td>3.453276</td>\n",
       "      <td>8.995909</td>\n",
       "      <td>62.994707</td>\n",
       "      <td>0.590094</td>\n",
       "      <td>385972</td>\n",
       "      <td>41.568300</td>\n",
       "    </tr>\n",
       "    <tr>\n",
       "      <th>2</th>\n",
       "      <td>transport</td>\n",
       "      <td>2.432994</td>\n",
       "      <td>6.938691</td>\n",
       "      <td>62.245807</td>\n",
       "      <td>0.329288</td>\n",
       "      <td>446482</td>\n",
       "      <td>40.123467</td>\n",
       "    </tr>\n",
       "    <tr>\n",
       "      <th>3</th>\n",
       "      <td>fighter</td>\n",
       "      <td>6.083763</td>\n",
       "      <td>3.019459</td>\n",
       "      <td>18.474555</td>\n",
       "      <td>0.174738</td>\n",
       "      <td>210125</td>\n",
       "      <td>11.384865</td>\n",
       "    </tr>\n",
       "    <tr>\n",
       "      <th>4</th>\n",
       "      <td>fighter</td>\n",
       "      <td>12.876769</td>\n",
       "      <td>2.452950</td>\n",
       "      <td>195.805771</td>\n",
       "      <td>0.150446</td>\n",
       "      <td>23109</td>\n",
       "      <td>11.328806</td>\n",
       "    </tr>\n",
       "  </tbody>\n",
       "</table>\n",
       "</div>"
      ],
      "text/plain": [
       "       class  g_reflection  i_reflection       speed  brightness  \\\n",
       "0  transport      2.190672      6.716633   62.168208    0.347465   \n",
       "1  transport      3.453276      8.995909   62.994707    0.590094   \n",
       "2  transport      2.432994      6.938691   62.245807    0.329288   \n",
       "3    fighter      6.083763      3.019459   18.474555    0.174738   \n",
       "4    fighter     12.876769      2.452950  195.805771    0.150446   \n",
       "\n",
       "   time_of_observance     volume  \n",
       "0              158221  44.932446  \n",
       "1              385972  41.568300  \n",
       "2              446482  40.123467  \n",
       "3              210125  11.384865  \n",
       "4               23109  11.328806  "
      ]
     },
     "execution_count": 2,
     "metadata": {},
     "output_type": "execute_result"
    }
   ],
   "source": [
    "data.head()"
   ]
  },
  {
   "cell_type": "code",
   "execution_count": 3,
   "metadata": {},
   "outputs": [],
   "source": [
    "data['class'] = pd.factorize(data['class'])[0]"
   ]
  },
  {
   "cell_type": "code",
   "execution_count": 7,
   "metadata": {},
   "outputs": [
    {
     "data": {
      "text/html": [
       "<div>\n",
       "<style scoped>\n",
       "    .dataframe tbody tr th:only-of-type {\n",
       "        vertical-align: middle;\n",
       "    }\n",
       "\n",
       "    .dataframe tbody tr th {\n",
       "        vertical-align: top;\n",
       "    }\n",
       "\n",
       "    .dataframe thead th {\n",
       "        text-align: right;\n",
       "    }\n",
       "</style>\n",
       "<table border=\"1\" class=\"dataframe\">\n",
       "  <thead>\n",
       "    <tr style=\"text-align: right;\">\n",
       "      <th></th>\n",
       "      <th>class</th>\n",
       "      <th>g_reflection</th>\n",
       "      <th>i_reflection</th>\n",
       "      <th>speed</th>\n",
       "      <th>brightness</th>\n",
       "      <th>time_of_observance</th>\n",
       "      <th>volume</th>\n",
       "    </tr>\n",
       "  </thead>\n",
       "  <tbody>\n",
       "    <tr>\n",
       "      <th>0</th>\n",
       "      <td>0</td>\n",
       "      <td>2.190672</td>\n",
       "      <td>6.716633</td>\n",
       "      <td>62.168208</td>\n",
       "      <td>0.347465</td>\n",
       "      <td>158221</td>\n",
       "      <td>44.932446</td>\n",
       "    </tr>\n",
       "    <tr>\n",
       "      <th>1</th>\n",
       "      <td>0</td>\n",
       "      <td>3.453276</td>\n",
       "      <td>8.995909</td>\n",
       "      <td>62.994707</td>\n",
       "      <td>0.590094</td>\n",
       "      <td>385972</td>\n",
       "      <td>41.568300</td>\n",
       "    </tr>\n",
       "    <tr>\n",
       "      <th>2</th>\n",
       "      <td>0</td>\n",
       "      <td>2.432994</td>\n",
       "      <td>6.938691</td>\n",
       "      <td>62.245807</td>\n",
       "      <td>0.329288</td>\n",
       "      <td>446482</td>\n",
       "      <td>40.123467</td>\n",
       "    </tr>\n",
       "    <tr>\n",
       "      <th>3</th>\n",
       "      <td>1</td>\n",
       "      <td>6.083763</td>\n",
       "      <td>3.019459</td>\n",
       "      <td>18.474555</td>\n",
       "      <td>0.174738</td>\n",
       "      <td>210125</td>\n",
       "      <td>11.384865</td>\n",
       "    </tr>\n",
       "    <tr>\n",
       "      <th>4</th>\n",
       "      <td>1</td>\n",
       "      <td>12.876769</td>\n",
       "      <td>2.452950</td>\n",
       "      <td>195.805771</td>\n",
       "      <td>0.150446</td>\n",
       "      <td>23109</td>\n",
       "      <td>11.328806</td>\n",
       "    </tr>\n",
       "    <tr>\n",
       "      <th>5</th>\n",
       "      <td>2</td>\n",
       "      <td>11.839620</td>\n",
       "      <td>11.175053</td>\n",
       "      <td>14.148615</td>\n",
       "      <td>0.727049</td>\n",
       "      <td>366230</td>\n",
       "      <td>344.868989</td>\n",
       "    </tr>\n",
       "    <tr>\n",
       "      <th>6</th>\n",
       "      <td>0</td>\n",
       "      <td>3.583082</td>\n",
       "      <td>9.118069</td>\n",
       "      <td>62.573389</td>\n",
       "      <td>0.529416</td>\n",
       "      <td>268752</td>\n",
       "      <td>48.811194</td>\n",
       "    </tr>\n",
       "    <tr>\n",
       "      <th>7</th>\n",
       "      <td>1</td>\n",
       "      <td>16.185380</td>\n",
       "      <td>3.686698</td>\n",
       "      <td>561.239067</td>\n",
       "      <td>0.177024</td>\n",
       "      <td>130305</td>\n",
       "      <td>11.063792</td>\n",
       "    </tr>\n",
       "    <tr>\n",
       "      <th>8</th>\n",
       "      <td>0</td>\n",
       "      <td>3.428605</td>\n",
       "      <td>7.933889</td>\n",
       "      <td>63.785882</td>\n",
       "      <td>0.445259</td>\n",
       "      <td>358659</td>\n",
       "      <td>46.378304</td>\n",
       "    </tr>\n",
       "    <tr>\n",
       "      <th>9</th>\n",
       "      <td>0</td>\n",
       "      <td>3.632056</td>\n",
       "      <td>8.945299</td>\n",
       "      <td>62.771709</td>\n",
       "      <td>0.361815</td>\n",
       "      <td>493153</td>\n",
       "      <td>43.070987</td>\n",
       "    </tr>\n",
       "    <tr>\n",
       "      <th>10</th>\n",
       "      <td>1</td>\n",
       "      <td>9.468371</td>\n",
       "      <td>3.058012</td>\n",
       "      <td>690.727190</td>\n",
       "      <td>0.150773</td>\n",
       "      <td>28856</td>\n",
       "      <td>13.880644</td>\n",
       "    </tr>\n",
       "    <tr>\n",
       "      <th>11</th>\n",
       "      <td>1</td>\n",
       "      <td>12.146224</td>\n",
       "      <td>5.094016</td>\n",
       "      <td>357.328176</td>\n",
       "      <td>0.134904</td>\n",
       "      <td>380638</td>\n",
       "      <td>10.142749</td>\n",
       "    </tr>\n",
       "    <tr>\n",
       "      <th>12</th>\n",
       "      <td>1</td>\n",
       "      <td>13.283433</td>\n",
       "      <td>3.525821</td>\n",
       "      <td>132.473420</td>\n",
       "      <td>0.194553</td>\n",
       "      <td>552164</td>\n",
       "      <td>11.802099</td>\n",
       "    </tr>\n",
       "    <tr>\n",
       "      <th>13</th>\n",
       "      <td>1</td>\n",
       "      <td>9.260027</td>\n",
       "      <td>5.475401</td>\n",
       "      <td>338.267558</td>\n",
       "      <td>0.199563</td>\n",
       "      <td>21320</td>\n",
       "      <td>11.062829</td>\n",
       "    </tr>\n",
       "    <tr>\n",
       "      <th>14</th>\n",
       "      <td>0</td>\n",
       "      <td>3.232512</td>\n",
       "      <td>6.900194</td>\n",
       "      <td>62.267806</td>\n",
       "      <td>0.507831</td>\n",
       "      <td>227919</td>\n",
       "      <td>45.665558</td>\n",
       "    </tr>\n",
       "    <tr>\n",
       "      <th>15</th>\n",
       "      <td>2</td>\n",
       "      <td>12.250561</td>\n",
       "      <td>9.945198</td>\n",
       "      <td>19.730467</td>\n",
       "      <td>0.611123</td>\n",
       "      <td>159260</td>\n",
       "      <td>452.830016</td>\n",
       "    </tr>\n",
       "    <tr>\n",
       "      <th>16</th>\n",
       "      <td>0</td>\n",
       "      <td>5.622813</td>\n",
       "      <td>7.122237</td>\n",
       "      <td>62.089102</td>\n",
       "      <td>0.568167</td>\n",
       "      <td>177124</td>\n",
       "      <td>39.752419</td>\n",
       "    </tr>\n",
       "    <tr>\n",
       "      <th>17</th>\n",
       "      <td>0</td>\n",
       "      <td>2.860564</td>\n",
       "      <td>8.079137</td>\n",
       "      <td>62.509683</td>\n",
       "      <td>0.559305</td>\n",
       "      <td>101845</td>\n",
       "      <td>42.164301</td>\n",
       "    </tr>\n",
       "    <tr>\n",
       "      <th>18</th>\n",
       "      <td>0</td>\n",
       "      <td>2.617450</td>\n",
       "      <td>9.116283</td>\n",
       "      <td>62.970676</td>\n",
       "      <td>0.545384</td>\n",
       "      <td>369363</td>\n",
       "      <td>49.388060</td>\n",
       "    </tr>\n",
       "    <tr>\n",
       "      <th>19</th>\n",
       "      <td>1</td>\n",
       "      <td>8.260850</td>\n",
       "      <td>6.873622</td>\n",
       "      <td>41.942535</td>\n",
       "      <td>0.143698</td>\n",
       "      <td>193192</td>\n",
       "      <td>13.704267</td>\n",
       "    </tr>\n",
       "  </tbody>\n",
       "</table>\n",
       "</div>"
      ],
      "text/plain": [
       "    class  g_reflection  i_reflection       speed  brightness  \\\n",
       "0       0      2.190672      6.716633   62.168208    0.347465   \n",
       "1       0      3.453276      8.995909   62.994707    0.590094   \n",
       "2       0      2.432994      6.938691   62.245807    0.329288   \n",
       "3       1      6.083763      3.019459   18.474555    0.174738   \n",
       "4       1     12.876769      2.452950  195.805771    0.150446   \n",
       "5       2     11.839620     11.175053   14.148615    0.727049   \n",
       "6       0      3.583082      9.118069   62.573389    0.529416   \n",
       "7       1     16.185380      3.686698  561.239067    0.177024   \n",
       "8       0      3.428605      7.933889   63.785882    0.445259   \n",
       "9       0      3.632056      8.945299   62.771709    0.361815   \n",
       "10      1      9.468371      3.058012  690.727190    0.150773   \n",
       "11      1     12.146224      5.094016  357.328176    0.134904   \n",
       "12      1     13.283433      3.525821  132.473420    0.194553   \n",
       "13      1      9.260027      5.475401  338.267558    0.199563   \n",
       "14      0      3.232512      6.900194   62.267806    0.507831   \n",
       "15      2     12.250561      9.945198   19.730467    0.611123   \n",
       "16      0      5.622813      7.122237   62.089102    0.568167   \n",
       "17      0      2.860564      8.079137   62.509683    0.559305   \n",
       "18      0      2.617450      9.116283   62.970676    0.545384   \n",
       "19      1      8.260850      6.873622   41.942535    0.143698   \n",
       "\n",
       "    time_of_observance      volume  \n",
       "0               158221   44.932446  \n",
       "1               385972   41.568300  \n",
       "2               446482   40.123467  \n",
       "3               210125   11.384865  \n",
       "4                23109   11.328806  \n",
       "5               366230  344.868989  \n",
       "6               268752   48.811194  \n",
       "7               130305   11.063792  \n",
       "8               358659   46.378304  \n",
       "9               493153   43.070987  \n",
       "10               28856   13.880644  \n",
       "11              380638   10.142749  \n",
       "12              552164   11.802099  \n",
       "13               21320   11.062829  \n",
       "14              227919   45.665558  \n",
       "15              159260  452.830016  \n",
       "16              177124   39.752419  \n",
       "17              101845   42.164301  \n",
       "18              369363   49.388060  \n",
       "19              193192   13.704267  "
      ]
     },
     "execution_count": 7,
     "metadata": {},
     "output_type": "execute_result"
    }
   ],
   "source": [
    "data.head(20)"
   ]
  },
  {
   "cell_type": "code",
   "execution_count": 8,
   "metadata": {},
   "outputs": [
    {
     "data": {
      "text/html": [
       "<div>\n",
       "<style scoped>\n",
       "    .dataframe tbody tr th:only-of-type {\n",
       "        vertical-align: middle;\n",
       "    }\n",
       "\n",
       "    .dataframe tbody tr th {\n",
       "        vertical-align: top;\n",
       "    }\n",
       "\n",
       "    .dataframe thead th {\n",
       "        text-align: right;\n",
       "    }\n",
       "</style>\n",
       "<table border=\"1\" class=\"dataframe\">\n",
       "  <thead>\n",
       "    <tr style=\"text-align: right;\">\n",
       "      <th></th>\n",
       "      <th>g_reflection</th>\n",
       "      <th>i_reflection</th>\n",
       "      <th>speed</th>\n",
       "      <th>brightness</th>\n",
       "      <th>time_of_observance</th>\n",
       "      <th>volume</th>\n",
       "    </tr>\n",
       "  </thead>\n",
       "  <tbody>\n",
       "    <tr>\n",
       "      <th>0</th>\n",
       "      <td>7.516543</td>\n",
       "      <td>3.916691</td>\n",
       "      <td>513.954279</td>\n",
       "      <td>0.177247</td>\n",
       "      <td>105908</td>\n",
       "      <td>13.267224</td>\n",
       "    </tr>\n",
       "    <tr>\n",
       "      <th>1</th>\n",
       "      <td>4.322988</td>\n",
       "      <td>6.967689</td>\n",
       "      <td>63.752970</td>\n",
       "      <td>0.545922</td>\n",
       "      <td>277855</td>\n",
       "      <td>39.833130</td>\n",
       "    </tr>\n",
       "    <tr>\n",
       "      <th>2</th>\n",
       "      <td>4.595724</td>\n",
       "      <td>9.098297</td>\n",
       "      <td>62.233948</td>\n",
       "      <td>0.389201</td>\n",
       "      <td>160662</td>\n",
       "      <td>42.014556</td>\n",
       "    </tr>\n",
       "    <tr>\n",
       "      <th>3</th>\n",
       "      <td>2.689675</td>\n",
       "      <td>7.964869</td>\n",
       "      <td>62.475495</td>\n",
       "      <td>0.541081</td>\n",
       "      <td>162092</td>\n",
       "      <td>42.056829</td>\n",
       "    </tr>\n",
       "    <tr>\n",
       "      <th>4</th>\n",
       "      <td>8.075576</td>\n",
       "      <td>5.169719</td>\n",
       "      <td>336.441261</td>\n",
       "      <td>0.174757</td>\n",
       "      <td>466853</td>\n",
       "      <td>11.779813</td>\n",
       "    </tr>\n",
       "  </tbody>\n",
       "</table>\n",
       "</div>"
      ],
      "text/plain": [
       "   g_reflection  i_reflection       speed  brightness  time_of_observance  \\\n",
       "0      7.516543      3.916691  513.954279    0.177247              105908   \n",
       "1      4.322988      6.967689   63.752970    0.545922              277855   \n",
       "2      4.595724      9.098297   62.233948    0.389201              160662   \n",
       "3      2.689675      7.964869   62.475495    0.541081              162092   \n",
       "4      8.075576      5.169719  336.441261    0.174757              466853   \n",
       "\n",
       "      volume  \n",
       "0  13.267224  \n",
       "1  39.833130  \n",
       "2  42.014556  \n",
       "3  42.056829  \n",
       "4  11.779813  "
      ]
     },
     "execution_count": 8,
     "metadata": {},
     "output_type": "execute_result"
    }
   ],
   "source": [
    "val_X.head()"
   ]
  },
  {
   "cell_type": "code",
   "execution_count": 9,
   "metadata": {},
   "outputs": [
    {
     "data": {
      "text/plain": [
       "['class',\n",
       " 'g_reflection',\n",
       " 'i_reflection',\n",
       " 'speed',\n",
       " 'brightness',\n",
       " 'time_of_observance',\n",
       " 'volume']"
      ]
     },
     "execution_count": 9,
     "metadata": {},
     "output_type": "execute_result"
    }
   ],
   "source": [
    "list(data)"
   ]
  },
  {
   "cell_type": "code",
   "execution_count": 11,
   "metadata": {},
   "outputs": [],
   "source": [
    "y = data[['class']]"
   ]
  },
  {
   "cell_type": "code",
   "execution_count": 12,
   "metadata": {},
   "outputs": [],
   "source": [
    "\n",
    "X = data[['g_reflection', 'i_reflection', 'speed', 'brightness', 'time_of_observance', 'volume']]\n",
    "\n",
    "\n"
   ]
  },
  {
   "cell_type": "code",
   "execution_count": null,
   "metadata": {},
   "outputs": [],
   "source": [
    "#X_train, X_test, y_train, y_test = train_test_split(X, y, test_size=0.4, random_state=1)"
   ]
  },
  {
   "cell_type": "code",
   "execution_count": 14,
   "metadata": {},
   "outputs": [],
   "source": [
    "clf = RandomForestClassifier(random_state=0)"
   ]
  },
  {
   "cell_type": "code",
   "execution_count": 15,
   "metadata": {},
   "outputs": [
    {
     "name": "stderr",
     "output_type": "stream",
     "text": [
      "C:\\Program Files (x86)\\Microsoft Visual Studio\\Shared\\Anaconda3_64\\lib\\site-packages\\ipykernel_launcher.py:1: DataConversionWarning: A column-vector y was passed when a 1d array was expected. Please change the shape of y to (n_samples,), for example using ravel().\n",
      "  \"\"\"Entry point for launching an IPython kernel.\n"
     ]
    },
    {
     "data": {
      "text/plain": [
       "RandomForestClassifier(bootstrap=True, class_weight=None, criterion='gini',\n",
       "            max_depth=None, max_features='auto', max_leaf_nodes=None,\n",
       "            min_impurity_decrease=0.0, min_impurity_split=None,\n",
       "            min_samples_leaf=1, min_samples_split=2,\n",
       "            min_weight_fraction_leaf=0.0, n_estimators=10, n_jobs=1,\n",
       "            oob_score=False, random_state=0, verbose=0, warm_start=False)"
      ]
     },
     "execution_count": 15,
     "metadata": {},
     "output_type": "execute_result"
    }
   ],
   "source": [
    "clf.fit(X, y)"
   ]
  },
  {
   "cell_type": "code",
   "execution_count": null,
   "metadata": {},
   "outputs": [],
   "source": [
    "#parameters = {'n_estimators': range(10, 50, 10),\n",
    "             'max_depth': range(1, 12, 2),\n",
    "             'min_samples_leaf': range(1, 7),\n",
    "             'min_samples_split': range(2, 9, 2)}"
   ]
  },
  {
   "cell_type": "code",
   "execution_count": null,
   "metadata": {},
   "outputs": [],
   "source": [
    "#grid_search_cv_clf = GridSearchCV(clf, parameters, verbose=1, n_jobs=-1)"
   ]
  },
  {
   "cell_type": "code",
   "execution_count": null,
   "metadata": {},
   "outputs": [],
   "source": [
    "#grid_search_cv_clf.fit(X,y)\n"
   ]
  },
  {
   "cell_type": "code",
   "execution_count": null,
   "metadata": {},
   "outputs": [],
   "source": [
    "#grid_search_cv_clf.best_params_\n"
   ]
  },
  {
   "cell_type": "code",
   "execution_count": null,
   "metadata": {},
   "outputs": [],
   "source": [
    "#best_clf = grid_search_cv_clf.best_estimator_\n",
    "#feature_importances = best_clf.feature_importances_\n",
    "#feature_importances_df = pd.DataFrame({'features': list(X),\n",
    "                                      'feature_importances': feature_importances})\n",
    "#feature_importances_df.sort_values('feature_importances', ascending=False)"
   ]
  },
  {
   "cell_type": "code",
   "execution_count": 16,
   "metadata": {},
   "outputs": [],
   "source": [
    "clf_preds = clf.predict(val_X)"
   ]
  },
  {
   "cell_type": "code",
   "execution_count": 17,
   "metadata": {},
   "outputs": [
    {
     "name": "stdout",
     "output_type": "stream",
     "text": [
      "[1 0 0 ... 0 1 0]\n"
     ]
    }
   ],
   "source": [
    "print(clf_preds)"
   ]
  },
  {
   "cell_type": "code",
   "execution_count": null,
   "metadata": {},
   "outputs": [],
   "source": []
  },
  {
   "cell_type": "code",
   "execution_count": null,
   "metadata": {},
   "outputs": [],
   "source": []
  },
  {
   "cell_type": "code",
   "execution_count": null,
   "metadata": {},
   "outputs": [],
   "source": []
  },
  {
   "cell_type": "code",
   "execution_count": 18,
   "metadata": {},
   "outputs": [
    {
     "data": {
      "text/plain": [
       "{0: 595, 1: 675, 2: 230}"
      ]
     },
     "execution_count": 18,
     "metadata": {},
     "output_type": "execute_result"
    }
   ],
   "source": [
    "unique, counts = np.unique(clf_preds, return_counts=True)\n",
    "dict(zip(unique, counts))"
   ]
  },
  {
   "cell_type": "code",
   "execution_count": null,
   "metadata": {},
   "outputs": [],
   "source": []
  }
 ],
 "metadata": {
  "kernelspec": {
   "display_name": "Python 3",
   "language": "python",
   "name": "python3"
  },
  "language_info": {
   "codemirror_mode": {
    "name": "ipython",
    "version": 3
   },
   "file_extension": ".py",
   "mimetype": "text/x-python",
   "name": "python",
   "nbconvert_exporter": "python",
   "pygments_lexer": "ipython3",
   "version": "3.6.5"
  }
 },
 "nbformat": 4,
 "nbformat_minor": 2
}
