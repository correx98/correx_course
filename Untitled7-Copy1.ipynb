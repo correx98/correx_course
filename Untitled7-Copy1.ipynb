{
 "cells": [
  {
   "cell_type": "code",
   "execution_count": null,
   "metadata": {},
   "outputs": [],
   "source": [
    "Get Root Tag Name"
   ]
  },
  {
   "cell_type": "code",
   "execution_count": 2,
   "metadata": {},
   "outputs": [
    {
     "name": "stdout",
     "output_type": "stream",
     "text": [
      "holidays\n"
     ]
    }
   ],
   "source": [
    "# Python XML Parsing\n",
    "import xml.etree.ElementTree as ET\n",
    "root = ET.parse('sample.xml').getroot()\n",
    "tag = root.tag\n",
    "print(tag)"
   ]
  },
  {
   "cell_type": "code",
   "execution_count": null,
   "metadata": {},
   "outputs": [],
   "source": [
    "Get Attributes of Root"
   ]
  },
  {
   "cell_type": "code",
   "execution_count": 3,
   "metadata": {},
   "outputs": [
    {
     "name": "stdout",
     "output_type": "stream",
     "text": [
      "{'year': '2017'}\n",
      "year :  2017\n"
     ]
    }
   ],
   "source": [
    "# Python XML Parsing\n",
    "import xml.etree.ElementTree as ET\n",
    "root = ET.parse('sample.xml').getroot()\n",
    " \n",
    "# get all attributes\n",
    "attributes = root.attrib\n",
    "print(attributes)\n",
    " \n",
    "# extract a particular attribute\n",
    "year = attributes.get('year')\n",
    "print('year : ',year)"
   ]
  },
  {
   "cell_type": "code",
   "execution_count": null,
   "metadata": {},
   "outputs": [],
   "source": [
    "Iterate over child nodes of root"
   ]
  },
  {
   "cell_type": "code",
   "execution_count": null,
   "metadata": {},
   "outputs": [],
   "source": [
    "# Python XML Parsing\n",
    "import xml.etree.ElementTree as ET\n",
    "root = ET.parse('sample.xml').getroot()\n",
    " \n",
    "# iterate over all the nodes with tag name - holiday\n",
    "for holiday in root.findall('holiday'):\n",
    "    print(holiday)"
   ]
  }
 ],
 "metadata": {
  "kernelspec": {
   "display_name": "Python 3",
   "language": "python",
   "name": "python3"
  },
  "language_info": {
   "codemirror_mode": {
    "name": "ipython",
    "version": 3
   },
   "file_extension": ".py",
   "mimetype": "text/x-python",
   "name": "python",
   "nbconvert_exporter": "python",
   "pygments_lexer": "ipython3",
   "version": "3.6.5"
  }
 },
 "nbformat": 4,
 "nbformat_minor": 2
}
